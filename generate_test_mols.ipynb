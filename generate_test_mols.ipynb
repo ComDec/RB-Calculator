{
 "cells": [
  {
   "cell_type": "code",
   "execution_count": 1,
   "metadata": {},
   "outputs": [],
   "source": [
    "smiles_list = [\"C1(C2=CC=CC=C2)=CC=CC=C1\", \"CC1=CC=CC=C1C2=CC=CC=C2\", \"CC1=CC=CC=C1C2=CC=CC=C2C\", \"C1(C2=CC=CC=C2CCCC3)=C3C=CC=C1\"]"
   ]
  },
  {
   "cell_type": "code",
   "execution_count": 3,
   "metadata": {},
   "outputs": [],
   "source": [
    "import os\n",
    "from rdkit import Chem\n",
    "from rdkit.Chem import AllChem\n",
    "\n",
    "def mol_to_xyz(mol, file_path=\"mol.xyz\"):\n",
    "    \"\"\"\n",
    "    将RDKit分子对象转换为XYZ格式的字符串。\n",
    "    :param mol: RDKit分子对象\n",
    "    :return: XYZ格式的字符串\n",
    "    \"\"\"\n",
    "    # 为分子生成3D构象\n",
    "    # mol = Chem.AddHs(mol)  # 为分子添加氢原子\n",
    "    # AllChem.EmbedMolecule(mol, AllChem.ETKDG())  # 生成3D构象\n",
    "\n",
    "    # 获取分子中原子的数量\n",
    "    num_atoms = mol.GetNumAtoms()\n",
    "\n",
    "    # 初始化XYZ内容\n",
    "    xyz_content = f\"{num_atoms}\\n\\n\"\n",
    "\n",
    "    # 遍历分子中的每个原子，添加它们的元素符号和坐标到XYZ内容\n",
    "    conf = mol.GetConformer()\n",
    "    for atom in mol.GetAtoms():\n",
    "        pos = conf.GetAtomPosition(atom.GetIdx())\n",
    "        xyz_content += f\"{atom.GetSymbol()} {pos.x:.6f} {pos.y:.6f} {pos.z:.6f}\\n\"\n",
    "    with open(file_path, 'w+') as f:\n",
    "        f.write(xyz_content)"
   ]
  },
  {
   "cell_type": "code",
   "execution_count": 6,
   "metadata": {},
   "outputs": [],
   "source": [
    "for idx, smiles in enumerate(smiles_list):\n",
    "    mol_connected = Chem.MolFromSmiles(smiles)\n",
    "    mol_connected.UpdatePropertyCache(strict=True) \n",
    "    mol_connected = Chem.AddHs(mol_connected)\n",
    "    AllChem.EmbedMolecule(mol_connected, AllChem.ETKDG())\n",
    "    save_dir = f\"./verification_mols/{idx}/\"\n",
    "    if not os.path.exists(save_dir):\n",
    "        os.makedirs(save_dir)\n",
    "    mol_to_xyz(mol_connected, os.path.join(save_dir, \"mol.xyz\"))"
   ]
  }
 ],
 "metadata": {
  "kernelspec": {
   "display_name": "mol",
   "language": "python",
   "name": "python3"
  },
  "language_info": {
   "codemirror_mode": {
    "name": "ipython",
    "version": 3
   },
   "file_extension": ".py",
   "mimetype": "text/x-python",
   "name": "python",
   "nbconvert_exporter": "python",
   "pygments_lexer": "ipython3",
   "version": "3.10.0"
  }
 },
 "nbformat": 4,
 "nbformat_minor": 2
}
