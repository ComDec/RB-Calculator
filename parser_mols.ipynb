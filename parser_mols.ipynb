{
 "cells": [
  {
   "cell_type": "code",
   "execution_count": 1,
   "metadata": {},
   "outputs": [
    {
     "name": "stdout",
     "output_type": "stream",
     "text": [
      "Molecules have been split and saved to the folder: split_molecules\n"
     ]
    }
   ],
   "source": [
    "from rdkit import Chem\n",
    "import os\n",
    "\n",
    "# Load molecules from the SDF file\n",
    "mols = Chem.SDMolSupplier('molecules_0.sdf')\n",
    "\n",
    "# Create a new directory to save individual molecule files\n",
    "output_dir = 'split_molecules'\n",
    "os.makedirs(output_dir, exist_ok=True)\n",
    "\n",
    "# Iterate over the molecules and save each one to a separate file\n",
    "for i, mol in enumerate(mols):\n",
    "    if mol is not None:  # Check if the molecule is valid\n",
    "        # Create a file name for each molecule\n",
    "        file_name = os.path.join(output_dir, f'molecule_{i}.sdf')\n",
    "        \n",
    "        # Write the molecule to a new SDF file\n",
    "        writer = Chem.SDWriter(file_name)\n",
    "        writer.write(mol)\n",
    "        writer.close()\n",
    "\n",
    "print(f'Molecules have been split and saved to the folder: {output_dir}')"
   ]
  }
 ],
 "metadata": {
  "kernelspec": {
   "display_name": "mol",
   "language": "python",
   "name": "python3"
  },
  "language_info": {
   "codemirror_mode": {
    "name": "ipython",
    "version": 3
   },
   "file_extension": ".py",
   "mimetype": "text/x-python",
   "name": "python",
   "nbconvert_exporter": "python",
   "pygments_lexer": "ipython3",
   "version": "3.10.14"
  }
 },
 "nbformat": 4,
 "nbformat_minor": 2
}
