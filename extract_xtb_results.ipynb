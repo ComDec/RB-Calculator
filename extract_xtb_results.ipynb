{
 "cells": [
  {
   "cell_type": "code",
   "execution_count": 1,
   "metadata": {},
   "outputs": [],
   "source": [
    "import os\n",
    "from tqdm import tqdm\n",
    "import numpy as np\n",
    "import pickle as pkl\n",
    "from rdkit import Chem\n",
    "from rdkit.Chem.Draw import rdMolDraw2D\n",
    "from IPython.display import display, Image\n",
    "\n",
    "def draw_mols(mol):\n",
    "    d2d = rdMolDraw2D.MolDraw2DCairo(300, 300)  # 使用Cairo绘制器\n",
    "    opts = d2d.drawOptions()\n",
    "    opts.addAtomIndices=False\n",
    "    d2d.DrawMolecule(mol)\n",
    "    d2d.FinishDrawing()\n",
    "    \n",
    "    # 获取绘图数据\n",
    "    data = d2d.GetDrawingText()\n",
    "    \n",
    "    # 使用IPython的Image显示功能来展示图像\n",
    "    display(Image(data=data, format='png'))\n",
    "    \n",
    "def read_energy(filename):\n",
    "    energies = []\n",
    "\n",
    "    with open(filename, 'r') as file:\n",
    "        lines = file.readlines()\n",
    "        step = 0\n",
    "        for line in lines:\n",
    "            if line.strip().startswith(\"energy\"):\n",
    "                energy = float(line.split()[1])\n",
    "                energies.append(energy)\n",
    "                step += 1\n",
    "                \n",
    "    return np.array(energies), step\n",
    "\n",
    "def parser_xtb_results(dir_path):\n",
    "    dir_list = os.listdir(dir_path)\n",
    "    tqdmer = tqdm(dir_list)\n",
    "    save_list = []\n",
    "    for dir_name in tqdmer:\n",
    "        save_dir = os.path.join(dir_path, dir_name)\n",
    "        if os.path.exists(os.path.join(save_dir, \"xtbopt.xyz\")) and os.path.exists(os.path.join(save_dir, \"xtbscan.log\")):\n",
    "            mol = Chem.rdmolfiles.MolFromXYZFile(os.path.join(save_dir, \"xtbopt.xyz\"))\n",
    "            elist, steps = read_energy(os.path.join(save_dir, \"xtbscan.log\"))\n",
    "            ebar = elist.max() - elist.min()\n",
    "            save_list.append({\n",
    "                \"id\": dir_name,\n",
    "                \"mol\": mol,\n",
    "                \"energy\": ebar\n",
    "            })\n",
    "        else:\n",
    "            continue\n",
    "    with open(\"xtb_results.pkl\", \"wb+\") as f:\n",
    "        pkl.dump(save_list, f)"
   ]
  },
  {
   "cell_type": "markdown",
   "metadata": {},
   "source": [
    "### Test"
   ]
  },
  {
   "cell_type": "code",
   "execution_count": 2,
   "metadata": {},
   "outputs": [
    {
     "data": {
      "text/plain": [
       "Text(0.5, 1.0, '21.179572785801422')"
      ]
     },
     "execution_count": 2,
     "metadata": {},
     "output_type": "execute_result"
    },
    {
     "data": {
      "image/png": "[encoded data removed]",
      "text/plain": [
       "<Figure size 432x288 with 1 Axes>"
      ]
     },
     "metadata": {
      "needs_background": "light"
     },
     "output_type": "display_data"
    }
   ],
   "source": [
    "from matplotlib import pyplot as plt\n",
    "\n",
    "root_dir = \"./xtb_cal_mols\"\n",
    "dir_list = os.listdir(\"./xtb_cal_mols\")\n",
    "index = 0\n",
    "save_dir = os.path.join(root_dir, dir_list[index])\n",
    "mol = Chem.rdmolfiles.MolFromXYZFile(os.path.join(save_dir, \"xtbopt.xyz\"))\n",
    "elist, steps = read_energy(os.path.join(save_dir, \"xtbscan.log\"))\n",
    "ebar = elist.max() - elist.min()\n",
    "\n",
    "plt.plot(elist)\n",
    "plt.title(ebar * 627.5095)"
   ]
  },
  {
   "cell_type": "markdown",
   "metadata": {},
   "source": [
    "### merge results"
   ]
  },
  {
   "cell_type": "code",
   "execution_count": 2,
   "metadata": {},
   "outputs": [],
   "source": [
    "import glob\n",
    "import rdkit\n",
    "import pickle as pkl\n",
    "\n",
    "xtb_results_all = []\n",
    "file_list = glob.glob(\"./xtb_results*.pkl\")"
   ]
  },
  {
   "cell_type": "code",
   "execution_count": 3,
   "metadata": {},
   "outputs": [
    {
     "ename": "",
     "evalue": "",
     "output_type": "error",
     "traceback": [
      "\u001b[1;31mThe Kernel crashed while executing code in the current cell or a previous cell. \n",
      "\u001b[1;31mPlease review the code in the cell(s) to identify a possible cause of the failure. \n",
      "\u001b[1;31mClick <a href='https://aka.ms/vscodeJupyterKernelCrash'>here</a> for more info. \n",
      "\u001b[1;31mView Jupyter <a href='command:jupyter.viewOutput'>log</a> for further details."
     ]
    }
   ],
   "source": [
    "for file in file_list:\n",
    "    with open(file, \"rb\") as f:\n",
    "        d = pkl.load(f)\n",
    "    xtb_results_all.extend(d)"
   ]
  }
 ],
 "metadata": {
  "kernelspec": {
   "display_name": "torch",
   "language": "python",
   "name": "python3"
  },
  "language_info": {
   "codemirror_mode": {
    "name": "ipython",
    "version": 3
   },
   "file_extension": ".py",
   "mimetype": "text/x-python",
   "name": "python",
   "nbconvert_exporter": "python",
   "pygments_lexer": "ipython3",
   "version": "3.9.12"
  }
 },
 "nbformat": 4,
 "nbformat_minor": 2
}
